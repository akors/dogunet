{
 "cells": [
  {
   "cell_type": "code",
   "execution_count": 1,
   "metadata": {},
   "outputs": [],
   "source": [
    "import sys\n",
    "\n",
    "sys.path.append(\"..\")"
   ]
  },
  {
   "cell_type": "code",
   "execution_count": 2,
   "metadata": {},
   "outputs": [
    {
     "name": "stderr",
     "output_type": "stream",
     "text": [
      "/home/akors/.conda/envs/ml/lib/python3.10/site-packages/torchvision/datapoints/__init__.py:12: UserWarning: The torchvision.datapoints and torchvision.transforms.v2 namespaces are still Beta. While we do not expect major breaking changes, some APIs may still change according to user feedback. Please submit any feedback you may have in this issue: https://github.com/pytorch/vision/issues/6753, and you can also check out https://github.com/pytorch/vision/issues/7319 to learn more about the APIs that we suspect might involve future changes. You can silence this warning by calling torchvision.disable_beta_transforms_warning().\n",
      "  warnings.warn(_BETA_TRANSFORMS_WARNING)\n",
      "/home/akors/.conda/envs/ml/lib/python3.10/site-packages/torchvision/transforms/v2/__init__.py:54: UserWarning: The torchvision.datapoints and torchvision.transforms.v2 namespaces are still Beta. While we do not expect major breaking changes, some APIs may still change according to user feedback. Please submit any feedback you may have in this issue: https://github.com/pytorch/vision/issues/6753, and you can also check out https://github.com/pytorch/vision/issues/7319 to learn more about the APIs that we suspect might involve future changes. You can silence this warning by calling torchvision.disable_beta_transforms_warning().\n",
      "  warnings.warn(_BETA_TRANSFORMS_WARNING)\n"
     ]
    }
   ],
   "source": [
    "import json\n",
    "\n",
    "import numpy as np\n",
    "import matplotlib.pyplot as plt\n",
    "\n",
    "import torch\n",
    "import torchvision.datasets\n",
    "import torchvision.transforms as T\n",
    "\n",
    "import datasets\n",
    "import metrics"
   ]
  },
  {
   "attachments": {},
   "cell_type": "markdown",
   "metadata": {},
   "source": [
    "# Dataset Metrics\n",
    "\n",
    "Data set metrics like pixel counts per class, rgb mean/std, image size distribution are calculated in two steps.\n",
    "\n",
    "The `metrics.DatasetMetricsFirstpass()` calculates most metrics except the standard deveation of the RGB values.\n",
    "\n",
    "The `metrics.DatasetMetricsSecondpass()` requires previously calculated first pass results and calculates the standard\n",
    "deviation of the RGB values.\n"
   ]
  },
  {
   "attachments": {},
   "cell_type": "markdown",
   "metadata": {},
   "source": [
    "## Data Loading"
   ]
  },
  {
   "cell_type": "code",
   "execution_count": 3,
   "metadata": {},
   "outputs": [],
   "source": [
    "dataroot = '../data/'"
   ]
  },
  {
   "cell_type": "code",
   "execution_count": 4,
   "metadata": {},
   "outputs": [
    {
     "data": {
      "text/plain": [
       "<module 'metrics' from '/home/akors/repos/akors/unet-test/nb/../metrics.py'>"
      ]
     },
     "execution_count": 4,
     "metadata": {},
     "output_type": "execute_result"
    }
   ],
   "source": [
    "import importlib\n",
    "importlib.reload(metrics)"
   ]
  },
  {
   "cell_type": "code",
   "execution_count": 5,
   "metadata": {},
   "outputs": [],
   "source": [
    "year=\"2012\""
   ]
  },
  {
   "cell_type": "code",
   "execution_count": 6,
   "metadata": {},
   "outputs": [],
   "source": [
    "ds_check = torchvision.datasets.VOCSegmentation(\n",
    "    root=dataroot,\n",
    "    year=year,\n",
    "    image_set=\"trainval\",\n",
    "    #image_set=\"train\",\n",
    "    download=False,\n",
    "    transform=T.ToTensor(), target_transform=T.PILToTensor())\n"
   ]
  },
  {
   "cell_type": "code",
   "execution_count": 7,
   "metadata": {},
   "outputs": [
    {
     "data": {
      "text/plain": [
       "torch.Size([3, 281, 500])"
      ]
     },
     "execution_count": 7,
     "metadata": {},
     "output_type": "execute_result"
    }
   ],
   "source": [
    "ds_check[0][0].shape"
   ]
  },
  {
   "attachments": {},
   "cell_type": "markdown",
   "metadata": {},
   "source": [
    "## First Pass\n",
    "\n",
    "First pass calculates most metrics"
   ]
  },
  {
   "attachments": {},
   "cell_type": "markdown",
   "metadata": {},
   "source": [
    "### Single Sample"
   ]
  },
  {
   "cell_type": "code",
   "execution_count": 8,
   "metadata": {},
   "outputs": [],
   "source": [
    "firstpass = metrics.DatasetMetricsFirstpass()"
   ]
  },
  {
   "cell_type": "code",
   "execution_count": 9,
   "metadata": {},
   "outputs": [],
   "source": [
    "# single sample for testing\n",
    "img, mask = ds_check[2]\n",
    "firstpass.update(img, mask)"
   ]
  },
  {
   "cell_type": "code",
   "execution_count": 10,
   "metadata": {},
   "outputs": [
    {
     "data": {
      "text/plain": [
       "{'sample_count': 1,\n",
       " 'rgb_mean': [0.5101040601730347, 0.5233184099197388, 0.4943293333053589],\n",
       " 'height_mean': 375.0,\n",
       " 'height_std': 0.0,\n",
       " 'width_mean': 500.0,\n",
       " 'width_std': 0.0,\n",
       " 'class_pixels': {0: 154539, 20: 30031, 255: 2930},\n",
       " 'class_objects': {0: 1, 20: 1, 255: 1},\n",
       " 'pixel_count': 187500,\n",
       " 'object_count': 3}"
      ]
     },
     "execution_count": 10,
     "metadata": {},
     "output_type": "execute_result"
    }
   ],
   "source": [
    "firstpass.calculate()"
   ]
  },
  {
   "cell_type": "code",
   "execution_count": 11,
   "metadata": {},
   "outputs": [
    {
     "data": {
      "text/plain": [
       "torch.Size([3, 375, 500])"
      ]
     },
     "execution_count": 11,
     "metadata": {},
     "output_type": "execute_result"
    }
   ],
   "source": [
    "img.shape"
   ]
  },
  {
   "cell_type": "code",
   "execution_count": 12,
   "metadata": {},
   "outputs": [
    {
     "data": {
      "text/plain": [
       "187500"
      ]
     },
     "execution_count": 12,
     "metadata": {},
     "output_type": "execute_result"
    }
   ],
   "source": [
    "img.shape[-2] * img.shape[-1]"
   ]
  },
  {
   "cell_type": "code",
   "execution_count": 13,
   "metadata": {},
   "outputs": [
    {
     "data": {
      "text/plain": [
       "(tensor([  0,  20, 255], dtype=torch.uint8), tensor([154539,  30031,   2930]))"
      ]
     },
     "execution_count": 13,
     "metadata": {},
     "output_type": "execute_result"
    }
   ],
   "source": [
    "mask.unique(return_counts=True)"
   ]
  },
  {
   "cell_type": "code",
   "execution_count": 14,
   "metadata": {},
   "outputs": [
    {
     "data": {
      "text/plain": [
       "(tensor([0.1896, 0.1907, 0.2048]), tensor([0.5101, 0.5233, 0.4943]))"
      ]
     },
     "execution_count": 14,
     "metadata": {},
     "output_type": "execute_result"
    }
   ],
   "source": [
    "torch.std_mean(img, dim=(-2,-1))"
   ]
  },
  {
   "attachments": {},
   "cell_type": "markdown",
   "metadata": {},
   "source": [
    "### Whole dataset"
   ]
  },
  {
   "cell_type": "code",
   "execution_count": 15,
   "metadata": {},
   "outputs": [],
   "source": [
    "firstpass = metrics.DatasetMetricsFirstpass()"
   ]
  },
  {
   "cell_type": "code",
   "execution_count": 16,
   "metadata": {},
   "outputs": [],
   "source": [
    "for sample in ds_check:\n",
    "    firstpass.update(*sample)"
   ]
  },
  {
   "cell_type": "code",
   "execution_count": 17,
   "metadata": {},
   "outputs": [
    {
     "data": {
      "text/plain": [
       "{'sample_count': 2913,\n",
       " 'rgb_mean': [0.4568465189887431, 0.44091867824707537, 0.4047057680605658],\n",
       " 'height_mean': 384.6728458633711,\n",
       " 'height_std': 63.5685314839425,\n",
       " 'width_mean': 471.9289392378991,\n",
       " 'width_std': 57.45974064982267,\n",
       " 'class_pixels': {0: 361560627,\n",
       "  1: 3704393,\n",
       "  2: 1571148,\n",
       "  3: 4384132,\n",
       "  4: 2862913,\n",
       "  5: 3438963,\n",
       "  6: 8696374,\n",
       "  7: 7088203,\n",
       "  8: 12473466,\n",
       "  9: 4975284,\n",
       "  10: 5027769,\n",
       "  11: 6246382,\n",
       "  12: 9379340,\n",
       "  13: 4925676,\n",
       "  14: 5476081,\n",
       "  15: 24995476,\n",
       "  16: 2904902,\n",
       "  17: 4187268,\n",
       "  18: 7091464,\n",
       "  19: 7903243,\n",
       "  20: 4120989,\n",
       "  255: 28568409},\n",
       " 'class_objects': {0: 2903,\n",
       "  1: 178,\n",
       "  2: 144,\n",
       "  3: 208,\n",
       "  4: 150,\n",
       "  5: 183,\n",
       "  6: 152,\n",
       "  7: 255,\n",
       "  8: 250,\n",
       "  9: 271,\n",
       "  10: 135,\n",
       "  11: 157,\n",
       "  12: 249,\n",
       "  13: 147,\n",
       "  14: 157,\n",
       "  15: 888,\n",
       "  16: 167,\n",
       "  17: 120,\n",
       "  18: 183,\n",
       "  19: 167,\n",
       "  20: 157,\n",
       "  255: 2913},\n",
       " 'pixel_count': 521582502,\n",
       " 'object_count': 10134}"
      ]
     },
     "execution_count": 17,
     "metadata": {},
     "output_type": "execute_result"
    }
   ],
   "source": [
    "dataset_metric_dict = firstpass.calculate()\n",
    "dataset_metric_dict"
   ]
  },
  {
   "cell_type": "code",
   "execution_count": 18,
   "metadata": {},
   "outputs": [
    {
     "data": {
      "text/plain": [
       "521582502"
      ]
     },
     "execution_count": 18,
     "metadata": {},
     "output_type": "execute_result"
    }
   ],
   "source": [
    "# print accurate total pixel count\n",
    "dataset_metric_dict['pixel_count']"
   ]
  },
  {
   "cell_type": "code",
   "execution_count": 19,
   "metadata": {},
   "outputs": [
    {
     "data": {
      "text/plain": [
       "528820916.7209063"
      ]
     },
     "execution_count": 19,
     "metadata": {},
     "output_type": "execute_result"
    }
   ],
   "source": [
    "# estimate pixel count from means\n",
    "dataset_metric_dict['height_mean']*dataset_metric_dict['width_mean']*dataset_metric_dict['sample_count']"
   ]
  },
  {
   "attachments": {},
   "cell_type": "markdown",
   "metadata": {},
   "source": [
    "## Second pass"
   ]
  },
  {
   "attachments": {},
   "cell_type": "markdown",
   "metadata": {},
   "source": [
    "### Single Sample"
   ]
  },
  {
   "cell_type": "code",
   "execution_count": 20,
   "metadata": {},
   "outputs": [],
   "source": [
    "secondpass = metrics.DatasetMetricsSecondpass(dataset_metric_dict)"
   ]
  },
  {
   "cell_type": "code",
   "execution_count": 21,
   "metadata": {},
   "outputs": [],
   "source": [
    "secondpass.update(*ds_check[0], 0)"
   ]
  },
  {
   "attachments": {},
   "cell_type": "markdown",
   "metadata": {},
   "source": [
    "### Whole Dataset"
   ]
  },
  {
   "cell_type": "code",
   "execution_count": 22,
   "metadata": {},
   "outputs": [],
   "source": [
    "for idx, sample in enumerate(ds_check):\n",
    "    secondpass.update(*sample, idx)"
   ]
  },
  {
   "cell_type": "code",
   "execution_count": 23,
   "metadata": {},
   "outputs": [
    {
     "data": {
      "text/plain": [
       "{'rgb_std': [0.2712492735621932, 0.2684503630844764, 0.28438828894633245]}"
      ]
     },
     "execution_count": 23,
     "metadata": {},
     "output_type": "execute_result"
    }
   ],
   "source": [
    "secondpass_result = secondpass.calculate()\n",
    "secondpass_result"
   ]
  },
  {
   "attachments": {},
   "cell_type": "markdown",
   "metadata": {},
   "source": [
    "## Complete Dataset Metrics"
   ]
  },
  {
   "cell_type": "code",
   "execution_count": 24,
   "metadata": {},
   "outputs": [],
   "source": [
    "dataset_metric_dict.update(secondpass_result)"
   ]
  },
  {
   "cell_type": "code",
   "execution_count": 25,
   "metadata": {},
   "outputs": [
    {
     "name": "stdout",
     "output_type": "stream",
     "text": [
      "{\n",
      "    \"sample_count\": 2913,\n",
      "    \"rgb_mean\": [\n",
      "        0.4568465189887431,\n",
      "        0.44091867824707537,\n",
      "        0.4047057680605658\n",
      "    ],\n",
      "    \"height_mean\": 384.6728458633711,\n",
      "    \"height_std\": 63.5685314839425,\n",
      "    \"width_mean\": 471.9289392378991,\n",
      "    \"width_std\": 57.45974064982267,\n",
      "    \"class_pixels\": {\n",
      "        \"0\": 361560627,\n",
      "        \"1\": 3704393,\n",
      "        \"2\": 1571148,\n",
      "        \"3\": 4384132,\n",
      "        \"4\": 2862913,\n",
      "        \"5\": 3438963,\n",
      "        \"6\": 8696374,\n",
      "        \"7\": 7088203,\n",
      "        \"8\": 12473466,\n",
      "        \"9\": 4975284,\n",
      "        \"10\": 5027769,\n",
      "        \"11\": 6246382,\n",
      "        \"12\": 9379340,\n",
      "        \"13\": 4925676,\n",
      "        \"14\": 5476081,\n",
      "        \"15\": 24995476,\n",
      "        \"16\": 2904902,\n",
      "        \"17\": 4187268,\n",
      "        \"18\": 7091464,\n",
      "        \"19\": 7903243,\n",
      "        \"20\": 4120989,\n",
      "        \"255\": 28568409\n",
      "    },\n",
      "    \"class_objects\": {\n",
      "        \"0\": 2903,\n",
      "        \"1\": 178,\n",
      "        \"2\": 144,\n",
      "        \"3\": 208,\n",
      "        \"4\": 150,\n",
      "        \"5\": 183,\n",
      "        \"6\": 152,\n",
      "        \"7\": 255,\n",
      "        \"8\": 250,\n",
      "        \"9\": 271,\n",
      "        \"10\": 135,\n",
      "        \"11\": 157,\n",
      "        \"12\": 249,\n",
      "        \"13\": 147,\n",
      "        \"14\": 157,\n",
      "        \"15\": 888,\n",
      "        \"16\": 167,\n",
      "        \"17\": 120,\n",
      "        \"18\": 183,\n",
      "        \"19\": 167,\n",
      "        \"20\": 157,\n",
      "        \"255\": 2913\n",
      "    },\n",
      "    \"pixel_count\": 521582502,\n",
      "    \"object_count\": 10134,\n",
      "    \"rgb_std\": [\n",
      "        0.2712492735621932,\n",
      "        0.2684503630844764,\n",
      "        0.28438828894633245\n",
      "    ]\n",
      "}\n"
     ]
    }
   ],
   "source": [
    "print(json.dumps(dataset_metric_dict, indent=4))"
   ]
  },
  {
   "attachments": {},
   "cell_type": "markdown",
   "metadata": {},
   "source": [
    "### Class Balance"
   ]
  },
  {
   "cell_type": "code",
   "execution_count": 26,
   "metadata": {},
   "outputs": [],
   "source": [
    "num_classpixels = dataset_metric_dict['class_pixels']"
   ]
  },
  {
   "cell_type": "code",
   "execution_count": 27,
   "metadata": {},
   "outputs": [],
   "source": [
    "## uncomment thisremap unknown/difficult classes to background\n",
    "#num_classpixels[0] += num_classpixels[255]\n",
    "#del num_classpixels[255]"
   ]
  },
  {
   "cell_type": "code",
   "execution_count": 28,
   "metadata": {},
   "outputs": [],
   "source": [
    "labels = [datasets.CLASSNAMES[idx] for idx in sorted(datasets.CLASSNAMES.keys())]\n",
    "labels.append('void') # scary"
   ]
  },
  {
   "cell_type": "code",
   "execution_count": 29,
   "metadata": {},
   "outputs": [],
   "source": [
    "classpixels_list = [num_classpixels[idx] for idx  in sorted(num_classpixels.keys())]"
   ]
  },
  {
   "cell_type": "code",
   "execution_count": 30,
   "metadata": {},
   "outputs": [
    {
     "data": {
      "text/plain": [
       "<BarContainer object of 22 artists>"
      ]
     },
     "execution_count": 30,
     "metadata": {},
     "output_type": "execute_result"
    },
    {
     "data": {
      "image/png": "[encoded data removed]",
      "text/plain": [
       "<Figure size 640x480 with 1 Axes>"
      ]
     },
     "metadata": {},
     "output_type": "display_data"
    }
   ],
   "source": [
    "plt.xticks(rotation='vertical')\n",
    "plt.bar(labels, classpixels_list)"
   ]
  },
  {
   "cell_type": "code",
   "execution_count": 31,
   "metadata": {},
   "outputs": [
    {
     "data": {
      "text/plain": [
       "<BarContainer object of 20 artists>"
      ]
     },
     "execution_count": 31,
     "metadata": {},
     "output_type": "execute_result"
    },
    {
     "data": {
      "image/png": "[encoded data removed]",
      "text/plain": [
       "<Figure size 640x480 with 1 Axes>"
      ]
     },
     "metadata": {},
     "output_type": "display_data"
    }
   ],
   "source": [
    "# leave out background/unknown class\n",
    "plt.xticks(rotation='vertical')\n",
    "plt.bar(labels[1:-1], classpixels_list[1:-1])"
   ]
  },
  {
   "cell_type": "code",
   "execution_count": 32,
   "metadata": {},
   "outputs": [
    {
     "data": {
      "text/plain": [
       "2.967810951443456"
      ]
     },
     "execution_count": 32,
     "metadata": {},
     "output_type": "execute_result"
    }
   ],
   "source": [
    "# ratio of background/void to actual classes\n",
    "(classpixels_list[0]+classpixels_list[-1]) / sum(classpixels_list[1:-1])"
   ]
  },
  {
   "attachments": {},
   "cell_type": "markdown",
   "metadata": {},
   "source": [
    "## Loading Daset Stats"
   ]
  },
  {
   "cell_type": "code",
   "execution_count": 33,
   "metadata": {},
   "outputs": [
    {
     "data": {
      "text/plain": [
       "{'sample_count': 1464,\n",
       " 'rgb_mean': [0.456797805118573, 0.4431319283728635, 0.4082984168812775],\n",
       " 'rgb_std': [0.27287834297763963, 0.2693239723248675, 0.28497994197739135]}"
      ]
     },
     "execution_count": 33,
     "metadata": {},
     "output_type": "execute_result"
    }
   ],
   "source": [
    "datasets.DATASET_STATS[\"2012\"]"
   ]
  },
  {
   "cell_type": "code",
   "execution_count": 34,
   "metadata": {},
   "outputs": [],
   "source": [
    "years=[\"2011\", \"2012\"]"
   ]
  },
  {
   "cell_type": "code",
   "execution_count": 35,
   "metadata": {},
   "outputs": [
    {
     "name": "stderr",
     "output_type": "stream",
     "text": [
      "/home/akors/repos/akors/unet-test/nb/../datasets.py:252: UserWarning: Precomputed stats for year 2011+2012 are no available. Resorting to weighted avarage over the years.\n",
      "  warnings.warn(\"Precomputed stats for year \" + combinedname + \" are no available. \"+\\\n"
     ]
    },
    {
     "data": {
      "text/plain": [
       "(array([0.45549866, 0.4424667 , 0.40801557]),\n",
       " array([0.27235018, 0.2687922 , 0.28464218]))"
      ]
     },
     "execution_count": 35,
     "metadata": {},
     "output_type": "execute_result"
    }
   ],
   "source": [
    "datasets.get_dataset_mean_std(years)"
   ]
  },
  {
   "cell_type": "code",
   "execution_count": 36,
   "metadata": {},
   "outputs": [
    {
     "data": {
      "text/plain": [
       "([0.45524269659916283, 0.44245909361169117, 0.40813989028331643],\n",
       " [0.272263535943418, 0.2686478121215398, 0.2844137407538725])"
      ]
     },
     "execution_count": 36,
     "metadata": {},
     "output_type": "execute_result"
    }
   ],
   "source": [
    "datasets.get_dataset_mean_std([str(y) for y in range(2007, 2012+1)])"
   ]
  },
  {
   "cell_type": "code",
   "execution_count": 37,
   "metadata": {},
   "outputs": [
    {
     "name": "stderr",
     "output_type": "stream",
     "text": [
      "/home/akors/repos/akors/unet-test/nb/../datasets.py:252: UserWarning: Precomputed stats for year 2009+2010+2011+2012 are no available. Resorting to weighted avarage over the years.\n",
      "  warnings.warn(\"Precomputed stats for year \" + combinedname + \" are no available. \"+\\\n"
     ]
    },
    {
     "data": {
      "text/plain": [
       "(array([0.45575958, 0.4433678 , 0.40875627]),\n",
       " array([0.27218359, 0.26858449, 0.28463335]))"
      ]
     },
     "execution_count": 37,
     "metadata": {},
     "output_type": "execute_result"
    }
   ],
   "source": [
    "datasets.get_dataset_mean_std([str(y) for y in range(2009, 2012+1)])"
   ]
  }
 ],
 "metadata": {
  "kernelspec": {
   "display_name": "ml",
   "language": "python",
   "name": "python3"
  },
  "language_info": {
   "codemirror_mode": {
    "name": "ipython",
    "version": 3
   },
   "file_extension": ".py",
   "mimetype": "text/x-python",
   "name": "python",
   "nbconvert_exporter": "python",
   "pygments_lexer": "ipython3",
   "version": "3.10.11"
  },
  "orig_nbformat": 4
 },
 "nbformat": 4,
 "nbformat_minor": 2
}
